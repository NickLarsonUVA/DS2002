{
  "cells": [
    {
      "cell_type": "markdown",
      "metadata": {
        "id": "view-in-github",
        "colab_type": "text"
      },
      "source": [
        "<a href=\"https://colab.research.google.com/github/NickLarsonUVA/DS2002/blob/main/superhero_assignment.ipynb\" target=\"_parent\"><img src=\"https://colab.research.google.com/assets/colab-badge.svg\" alt=\"Open In Colab\"/></a>"
      ]
    },
    {
      "cell_type": "markdown",
      "id": "5fa8dcf6",
      "metadata": {
        "id": "5fa8dcf6"
      },
      "source": [
        "# Superhero Database Assignment (SQLite & Google Colab)\n",
        "\n",
        "## Objective\n",
        "In this assignment, you will design and implement a **Superhero Database** using SQLite in Google Colab. This database will store superheroes, villains, and their battles. You will write SQL queries to analyze battle outcomes and relationships between heroes and villains.\n",
        "\n",
        "### Group Size:\n",
        "- 2 to 3 students per group.\n",
        "\n",
        "### Tools Required:\n",
        "- **Google Colab**\n",
        "- **SQLite (built into Python)**\n",
        "- **CSV files (provided for import)**"
      ]
    },
    {
      "cell_type": "markdown",
      "id": "5535e625",
      "metadata": {
        "id": "5535e625"
      },
      "source": [
        "## Step 1: Setting Up Your SQLite Database\n",
        "\n",
        "### Tasks:\n",
        "1. Initialize SQLite in Google Colab.\n",
        "2. Create a database named `superhero_db.sqlite`.\n",
        "3. Define the database schema, ensuring it includes the following tables:\n",
        "   - `heroes`: Stores superhero names, powers, and teams.\n",
        "   - `villains`: Stores villains and their evil plans.\n",
        "   - `battles`: Tracks battles between heroes and villains, including the outcome.\n",
        "4. Implement primary keys and foreign keys where appropriate.\n",
        "\n",
        "✅ **Checkpoint:** Ensure that the database and tables have been successfully created."
      ]
    },
    {
      "cell_type": "code",
      "source": [
        "import sqlite3\n",
        "\n",
        "connection = sqlite3.connect('superhero_db.sqlite')\n",
        "print(\"Database created / connected\")\n",
        "\n",
        "cursor = connection.cursor()\n",
        "print(\"Cursor created\")\n",
        "\n",
        "cursor.execute('''\n",
        "CREATE TABLE IF NOT EXISTS heroes (\n",
        "    id INTEGER PRIMARY KEY AUTOINCREMENT,\n",
        "    name TEXT NOT NULL,\n",
        "    powers TEXT NOT NULL,\n",
        "    teams TEXT NOT NULL\n",
        ")\n",
        "''')\n",
        "print(\"Heroes table created\")"
      ],
      "metadata": {
        "colab": {
          "base_uri": "https://localhost:8080/"
        },
        "id": "TRjnHtqi51bz",
        "outputId": "a4b82fd8-da14-481c-baab-89755a7f60ff"
      },
      "id": "TRjnHtqi51bz",
      "execution_count": null,
      "outputs": [
        {
          "output_type": "stream",
          "name": "stdout",
          "text": [
            "Database created / connected\n",
            "Cursor created\n"
          ]
        }
      ]
    },
    {
      "cell_type": "markdown",
      "id": "154b3c3a",
      "metadata": {
        "id": "154b3c3a"
      },
      "source": [
        "## Step 2: Import Data from CSV Files\n",
        "\n",
        "### Tasks:\n",
        "1. Download the provided CSV files.\n",
        "2. Upload them to Google Colab.\n",
        "3. Write a script to import data from these files into the appropriate tables.\n",
        "4. Verify that the data has been successfully inserted.\n",
        "\n",
        "✅ **Checkpoint:** Ensure that each table contains the expected data from the CSV files."
      ]
    },
    {
      "cell_type": "code",
      "source": [
        "import pandas as pd\n",
        "\n",
        "heroes_df = pd.read_csv('heroes.csv')\n",
        "villains_df = pd.read_csv('villains.csv')\n",
        "battles_df = pd.read_csv('battles.csv')\n",
        "\n",
        "print(heroes_df)\n",
        "print(villains_df)\n",
        "print(battles_df)"
      ],
      "metadata": {
        "colab": {
          "base_uri": "https://localhost:8080/"
        },
        "id": "3utR4PCC7l9T",
        "outputId": "58188f35-4289-420e-cc61-dc874c4fb319"
      },
      "id": "3utR4PCC7l9T",
      "execution_count": 5,
      "outputs": [
        {
          "output_type": "stream",
          "name": "stdout",
          "text": [
            "   id            name               power            team\n",
            "0   1      Spider-Man        Web-slinging        Avengers\n",
            "1   2        Iron Man       Powered Armor        Avengers\n",
            "2   3          Batman    Genius Detective  Justice League\n",
            "3   4        Superman      Super Strength  Justice League\n",
            "4   5            Thor      God of Thunder        Avengers\n",
            "5   6    Wonder Woman  Amazonian Strength  Justice League\n",
            "6   7   Black Panther    Enhanced Agility        Avengers\n",
            "7   8       The Flash         Super Speed  Justice League\n",
            "8   9            Hulk      Super Strength        Avengers\n",
            "9  10  Doctor Strange         Mystic Arts        Avengers\n",
            "   id          name                           evil_plan\n",
            "0   1  Green Goblin                  Terrorize New York\n",
            "1   2        Thanos         Collect all Infinity Stones\n",
            "2   3         Joker              Spread chaos in Gotham\n",
            "3   4    Lex Luthor                     Defeat Superman\n",
            "4   5          Loki  Trick humanity into worshiping him\n",
            "5   6        Ultron                 AI world domination\n",
            "6   7      Darkseid                Control the universe\n",
            "7   8         Venom                  Consume Spider-Man\n",
            "8   9       Magneto                    Mutant supremacy\n",
            "9  10     Red Skull                        Revive Hydra\n",
            "    id  hero_id  villain_id       outcome\n",
            "0    1        1          10  Villain Wins\n",
            "1    2        9           3     Hero Wins\n",
            "2    3        8           1          Draw\n",
            "3    4        5           4  Villain Wins\n",
            "4    5        1           7     Hero Wins\n",
            "5    6        2           8  Villain Wins\n",
            "6    7        9           8     Hero Wins\n",
            "7    8        3           2     Hero Wins\n",
            "8    9        7           5     Hero Wins\n",
            "9   10        3           1          Draw\n",
            "10  11        1           8  Villain Wins\n",
            "11  12        2           1          Draw\n",
            "12  13        8           9     Hero Wins\n",
            "13  14        8           1          Draw\n",
            "14  15        6          10          Draw\n",
            "15  16        1           1  Villain Wins\n",
            "16  17        8           3          Draw\n",
            "17  18        6           3  Villain Wins\n",
            "18  19        4           8  Villain Wins\n",
            "19  20        3           4     Hero Wins\n",
            "20  21        8           1          Draw\n",
            "21  22        4           9          Draw\n",
            "22  23        3           9          Draw\n",
            "23  24        8           9  Villain Wins\n",
            "24  25        2           5          Draw\n",
            "25  26        3           7          Draw\n",
            "26  27       10           3          Draw\n",
            "27  28        3           8          Draw\n",
            "28  29        3           5     Hero Wins\n",
            "29  30        5           5     Hero Wins\n"
          ]
        }
      ]
    },
    {
      "cell_type": "markdown",
      "id": "33548d9f",
      "metadata": {
        "id": "33548d9f"
      },
      "source": [
        "## Step 3: Querying the Database\n",
        "\n",
        "### Tasks:\n",
        "Write SQL queries to answer the following:\n",
        "1. Retrieve all superheroes and their powers.\n",
        "2. Find all battles where the hero won.\n",
        "3. List all villains and their evil plans.\n",
        "4. Determine which superhero has fought the most battles.\n",
        "\n",
        "✅ **Checkpoint:** Ensure that all queries return meaningful results from the database."
      ]
    },
    {
      "cell_type": "markdown",
      "id": "de8bda94",
      "metadata": {
        "id": "de8bda94"
      },
      "source": [
        "## Step 4: Add a Custom Feature\n",
        "\n",
        "### Tasks:\n",
        "1. Design and implement an additional table related to superheroes or villains.\n",
        "2. Populate it with data.\n",
        "3. Write at least one query to retrieve meaningful insights from the new table.\n",
        "\n",
        "**Examples of Custom Features:**\n",
        "- Sidekicks for superheroes\n",
        "- Villain hideouts\n",
        "- Battle locations\n",
        "- Superhero equipment\n",
        "\n",
        "✅ **Checkpoint:** Ensure that the new table and queries function correctly."
      ]
    },
    {
      "cell_type": "markdown",
      "id": "9bf43fe6",
      "metadata": {
        "id": "9bf43fe6"
      },
      "source": [
        "## Bonus Challenge (+5 Points)\n",
        "\n",
        "### Tasks:\n",
        "1. Enhance your project by adding a visual or interactive component.\n",
        "\n",
        "**Options:**\n",
        "- Visualize battles using Matplotlib (e.g., a bar chart showing how many battles each superhero has fought).\n",
        "- Make it interactive (e.g., allow users to input a superhero name and display their battles).\n",
        "\n",
        "✅ **Checkpoint:** If attempting the bonus, ensure that your visualization or interactive component works correctly."
      ]
    },
    {
      "cell_type": "markdown",
      "id": "89f56c05",
      "metadata": {
        "id": "89f56c05"
      },
      "source": [
        "## Submission Guidelines\n",
        "\n",
        "Each group must submit a **Google Colab Notebook (.ipynb)** containing:\n",
        "- ✅ **Database schema (DDL)**\n",
        "- ✅ **CSV imports & data insertion (DML)**\n",
        "- ✅ **SQL queries & results**\n",
        "- ✅ **Custom feature (bonus if applicable)**"
      ]
    },
    {
      "cell_type": "markdown",
      "id": "61477c9b",
      "metadata": {
        "id": "61477c9b"
      },
      "source": [
        "## Grading Criteria (Total: 25 Points)\n",
        "\n",
        "| Section                 | Points |\n",
        "|-------------------------|--------|\n",
        "| Database Setup          | 5      |\n",
        "| Data Importing         | 10     |\n",
        "| Querying the Data      | 10     |\n",
        "| Extra Feature          | 5      |\n",
        "| Bonus Challenge (Optional) | +5  |"
      ]
    },
    {
      "cell_type": "markdown",
      "id": "92bf6839",
      "metadata": {
        "id": "92bf6839"
      },
      "source": [
        "### Final Notes:\n",
        "- Be **creative** when designing superheroes and villains.\n",
        "- **Comment your code** to explain its functionality.\n",
        "- **Have fun** building your superhero universe!"
      ]
    }
  ],
  "metadata": {
    "colab": {
      "provenance": [],
      "include_colab_link": true
    },
    "language_info": {
      "name": "python"
    },
    "kernelspec": {
      "name": "python3",
      "display_name": "Python 3"
    }
  },
  "nbformat": 4,
  "nbformat_minor": 5
}