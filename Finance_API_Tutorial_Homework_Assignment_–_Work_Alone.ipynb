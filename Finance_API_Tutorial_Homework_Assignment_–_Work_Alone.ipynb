{
  "nbformat": 4,
  "nbformat_minor": 0,
  "metadata": {
    "colab": {
      "provenance": [],
      "authorship_tag": "ABX9TyMCX/LEHcOUMf5EkimBRJrD",
      "include_colab_link": true
    },
    "kernelspec": {
      "name": "python3",
      "display_name": "Python 3"
    },
    "language_info": {
      "name": "python"
    }
  },
  "cells": [
    {
      "cell_type": "markdown",
      "metadata": {
        "id": "view-in-github",
        "colab_type": "text"
      },
      "source": [
        "<a href=\"https://colab.research.google.com/github/NickLarsonUVA/DS2002/blob/main/Finance_API_Tutorial_Homework_Assignment_%E2%80%93_Work_Alone.ipynb\" target=\"_parent\"><img src=\"https://colab.research.google.com/assets/colab-badge.svg\" alt=\"Open In Colab\"/></a>"
      ]
    },
    {
      "cell_type": "code",
      "execution_count": 59,
      "metadata": {
        "id": "ChF6M8Qkzc8r"
      },
      "outputs": [],
      "source": [
        "import json\n",
        "import pandas as pd\n",
        "import json\n",
        "import requests"
      ]
    },
    {
      "cell_type": "markdown",
      "source": [
        "Task 1: Fetch Basic Stock Data 10pts\n",
        "- Prompt the user to input two or more stock symbols.\n",
        "- Use the API to fetch data for the given symbols.\n",
        "- Extract and display only the Stock Ticker, Company Name, and Current Market Price"
      ],
      "metadata": {
        "id": "KkwVZT8nz2ZC"
      }
    },
    {
      "cell_type": "code",
      "source": [
        "#Enter two or more stocks into the input (using tickers as the input)\n",
        "stock = input()"
      ],
      "metadata": {
        "colab": {
          "base_uri": "https://localhost:8080/"
        },
        "id": "tjhEHsjVzrPI",
        "outputId": "ec1db81e-0f47-4ab7-8b7e-d7e4a33128f2"
      },
      "execution_count": 60,
      "outputs": [
        {
          "name": "stdout",
          "output_type": "stream",
          "text": [
            "AAPL\n"
          ]
        }
      ]
    },
    {
      "cell_type": "code",
      "source": [
        "apikey=\"\" #use your own key\n",
        "\n",
        "url = \"https://yfapi.net/v6/finance/quote\"\n",
        "\n",
        "querystring = {\"symbols\":stock}\n",
        "\n",
        "headers = {\n",
        "    'x-api-key': apikey\n",
        "    }\n",
        "\n",
        "response = requests.request(\"GET\", url, headers=headers, params=querystring)\n",
        "\n",
        "print(response.text)"
      ],
      "metadata": {
        "colab": {
          "base_uri": "https://localhost:8080/"
        },
        "id": "YrXvcNr6zlRF",
        "outputId": "253a60d9-c878-4cc2-d36f-a2477104d70e"
      },
      "execution_count": 65,
      "outputs": [
        {
          "output_type": "stream",
          "name": "stdout",
          "text": [
            "{\"quoteResponse\":{\"result\":[{\"language\":\"en-US\",\"region\":\"US\",\"quoteType\":\"EQUITY\",\"typeDisp\":\"Equity\",\"quoteSourceName\":\"Nasdaq Real Time Price\",\"triggerable\":true,\"customPriceAlertConfidence\":\"HIGH\",\"currency\":\"USD\",\"regularMarketChangePercent\":-2.7040126,\"regularMarketPrice\":240.36,\"exchangeTimezoneName\":\"America/New_York\",\"exchangeTimezoneShortName\":\"EST\",\"gmtOffSetMilliseconds\":-18000000,\"market\":\"us_market\",\"esgPopulated\":false,\"corporateActions\":[],\"longName\":\"Apple Inc.\",\"postMarketTime\":1740610387,\"regularMarketTime\":1740603601,\"exchange\":\"NMS\",\"messageBoardId\":\"finmb_24937\",\"shortName\":\"Apple Inc.\",\"forwardPE\":28.924187,\"priceToBook\":54.15953,\"sourceInterval\":15,\"exchangeDataDelayedBy\":0,\"averageAnalystRating\":\"2.1 - Buy\",\"tradeable\":false,\"cryptoTradeable\":false,\"hasPrePostMarketData\":true,\"firstTradeDateMilliseconds\":345479400000,\"priceHint\":2,\"postMarketChangePercent\":-0.09152988,\"postMarketPrice\":240.14,\"postMarketChange\":-0.22000122,\"regularMarketChange\":-6.6799927,\"regularMarketDayHigh\":244.98,\"regularMarketDayRange\":\"239.13 - 244.98\",\"regularMarketDayLow\":239.13,\"regularMarketVolume\":43602013,\"regularMarketPreviousClose\":247.04,\"bid\":240.24,\"ask\":240.34,\"bidSize\":1,\"askSize\":1,\"fullExchangeName\":\"NasdaqGS\",\"financialCurrency\":\"USD\",\"regularMarketOpen\":244.33,\"averageDailyVolume3Month\":50169216,\"averageDailyVolume10Day\":45929720,\"fiftyTwoWeekLowChange\":76.28,\"fiftyTwoWeekLowChangePercent\":0.46489516,\"fiftyTwoWeekRange\":\"164.08 - 260.1\",\"fiftyTwoWeekHighChange\":-19.740005,\"fiftyTwoWeekHighChangePercent\":-0.07589391,\"fiftyTwoWeekLow\":164.08,\"fiftyTwoWeekHigh\":260.1,\"fiftyTwoWeekChangePercent\":36.170208,\"dividendDate\":1739404800,\"earningsTimestamp\":1738272600,\"earningsTimestampStart\":1746010740,\"earningsTimestampEnd\":1746446400,\"earningsCallTimestampStart\":1738274400,\"earningsCallTimestampEnd\":1738274400,\"isEarningsDateEstimate\":true,\"trailingAnnualDividendRate\":0.99,\"trailingPE\":38.152378,\"dividendRate\":1.0,\"trailingAnnualDividendYield\":0.0040074484,\"dividendYield\":0.4,\"epsTrailingTwelveMonths\":6.3,\"epsForward\":8.31,\"epsCurrentYear\":7.33658,\"priceEpsCurrentYear\":32.76186,\"sharesOutstanding\":15022100480,\"bookValue\":4.438,\"fiftyDayAverage\":240.6826,\"fiftyDayAverageChange\":-0.32260132,\"fiftyDayAverageChangePercent\":-0.0013403599,\"twoHundredDayAverage\":225.0356,\"twoHundredDayAverageChange\":15.324402,\"twoHundredDayAverageChangePercent\":0.06809768,\"marketCap\":3610712211456,\"marketState\":\"POST\",\"displayName\":\"Apple\",\"symbol\":\"AAPL\"}],\"error\":null}}\n"
          ]
        }
      ]
    },
    {
      "cell_type": "code",
      "source": [
        "df = pd.DataFrame(response.json()['quoteResponse']['result'])\n",
        "\n",
        "# Extract Market Price and format it\n",
        "df['Market Price'] = df['regularMarketPrice'].apply(lambda x: f\"${x:,.2f}\" if pd.notna(x) else \"N/A\")\n",
        "\n",
        "# Display the results\n",
        "print(df[['symbol', 'shortName', 'Market Price']])"
      ],
      "metadata": {
        "colab": {
          "base_uri": "https://localhost:8080/"
        },
        "id": "mGyoB8WZz1YS",
        "outputId": "8d50a1d8-159d-4b82-dca2-3f3265a82329"
      },
      "execution_count": 66,
      "outputs": [
        {
          "output_type": "stream",
          "name": "stdout",
          "text": [
            "  symbol   shortName Market Price\n",
            "0   AAPL  Apple Inc.      $240.36\n"
          ]
        }
      ]
    },
    {
      "cell_type": "markdown",
      "source": [
        "Task 2.1: Fetch Additional Data Using Modules 10pts\n",
        "- Allow the user to choose a module from the Quote Summary Endpoint.\n",
        "Find:\n",
        "52 Week High\n",
        "52 Week Low\n",
        "Return on Assets (ROA)\n",
        "- Make an API request using the chosen module.\n",
        "- Convert the response into a Pandas DataFrame.\n",
        "- Display the DataFrame."
      ],
      "metadata": {
        "id": "fjut3Eih1NLo"
      }
    },
    {
      "cell_type": "code",
      "source": [
        "import requests\n",
        "import pandas as pd\n",
        "\n",
        "def get_finance_data():\n",
        "    apikey = \"\"  # Use your own key\n",
        "    stock = input(\"Enter the stock symbol: \")\n",
        "\n",
        "    modules = {\n",
        "        \"1\": \"summaryDetail\",\n",
        "        \"2\": \"financialData\"\n",
        "    }\n",
        "\n",
        "    print(\"Choose a module:\")\n",
        "    print(\"1: 52 Week High / 52 Week Low\")\n",
        "    print(\"2: Return on Assets (ROA)\")\n",
        "\n",
        "    choice = input(\"Enter the number of your choice: \")\n",
        "    module = modules.get(choice)\n",
        "\n",
        "    if not module:\n",
        "        print(\"Invalid choice.\")\n",
        "        return\n",
        "\n",
        "    url = f\"https://yfapi.net/v11/finance/quoteSummary/{stock}\"\n",
        "    querystring = {\"modules\": module}\n",
        "    headers = {\n",
        "        'x-api-key': apikey\n",
        "        }\n",
        "\n",
        "    response = requests.get(url, headers=headers, params=querystring)\n",
        "\n",
        "    # Extract relevant data based on module choice\n",
        "    result = response.json()['quoteSummary']['result'][0]\n",
        "\n",
        "    if choice == \"1\":\n",
        "        data = {\n",
        "            \"52 Week High\": result[\"summaryDetail\"][\"twoHundredDayAverage\"][\"raw\"],\n",
        "            \"52 Week Low\": result[\"summaryDetail\"][\"fiftyTwoWeekLow\"][\"raw\"]\n",
        "        }\n",
        "    elif choice == \"2\":\n",
        "        data = {\n",
        "            \"ROA\": result[\"financialData\"][\"returnOnAssets\"][\"raw\"]\n",
        "        }\n",
        "\n",
        "    # Convert the extracted data into a pandas DataFrame\n",
        "    df = pd.DataFrame([data])\n",
        "\n",
        "    print(df)\n",
        "\n",
        "get_finance_data()"
      ],
      "metadata": {
        "colab": {
          "base_uri": "https://localhost:8080/"
        },
        "id": "x76QKRQkXsyu",
        "outputId": "89ffab89-5fb6-4d2e-a8d4-7739cc65a726"
      },
      "execution_count": 67,
      "outputs": [
        {
          "output_type": "stream",
          "name": "stdout",
          "text": [
            "Enter the stock symbol: AAPL\n",
            "Choose a module:\n",
            "1: 52 Week High / 52 Week Low\n",
            "2: Return on Assets (ROA)\n",
            "Enter the number of your choice: 1\n",
            "   52 Week High  52 Week Low\n",
            "0      225.0356       164.08\n"
          ]
        }
      ]
    },
    {
      "cell_type": "markdown",
      "source": [
        "Task 2.2: Fetch Additional Data Using Modules 10pts\n",
        "Find Current Trending Stocks , Their Actual Name and Ticker and Current Price as well as\n",
        "their 52 high and low."
      ],
      "metadata": {
        "id": "RKfpr13RNSWH"
      }
    },
    {
      "cell_type": "code",
      "source": [
        "import pandas as pd\n",
        "import requests\n",
        "\n",
        "def get_trending_stocks():\n",
        "    apikey = \"\"  # Use your own key\n",
        "\n",
        "    trending_url = \"https://yfapi.net/v1/finance/trending/US\"\n",
        "    headers = {'x-api-key': apikey}\n",
        "\n",
        "    trending_response = requests.get(trending_url, headers=headers)\n",
        "    trending_data = trending_response.json().get('finance', {}).get('result', [{}])[0].get('quotes', [])\n",
        "\n",
        "    if not trending_data:\n",
        "        print(\"No trending stocks found.\")\n",
        "        return\n",
        "\n",
        "    symbols = \",\".join([stock['symbol'] for stock in trending_data])\n",
        "\n",
        "    #using the code from part 1 of the assignment\n",
        "    quote_url = \"https://yfapi.net/v6/finance/quote\"\n",
        "    querystring = {\"symbols\": symbols}\n",
        "\n",
        "    quote_response = requests.get(quote_url, headers=headers, params=querystring)\n",
        "    quote_data = quote_response.json().get('quoteResponse', {}).get('result', [])\n",
        "\n",
        "    df = pd.DataFrame(quote_data)\n",
        "    df['Market Price'] = df['regularMarketPrice'].apply(lambda x: f\"${x:,.2f}\" if pd.notna(x) else \"N/A\")\n",
        "\n",
        "    # adding the additional data for 52-week high/low based on 2.1\n",
        "    for stock in quote_data:\n",
        "        stock_symbol = stock['symbol']\n",
        "        summary_url = f\"https://yfapi.net/v11/finance/quoteSummary/{stock_symbol}\"\n",
        "        summary_querystring = {\"modules\": \"summaryDetail\"}\n",
        "        summary_response = requests.get(summary_url, headers=headers, params=summary_querystring)\n",
        "        summary_data = summary_response.json().get('quoteSummary', {}).get('result', [{}])[0].get('summaryDetail', {})\n",
        "\n",
        "        df.loc[df['symbol'] == stock_symbol, '52 Week High'] = summary_data.get('twoHundredDayAverage', {}).get('raw', \"N/A\")\n",
        "        df.loc[df['symbol'] == stock_symbol, '52 Week Low'] = summary_data.get('fiftyTwoWeekLow', {}).get('raw', \"N/A\")\n",
        "\n",
        "    print(df[['symbol', 'shortName', 'Market Price', '52 Week High', '52 Week Low']])\n",
        "\n",
        "# Run the function to display trending stocks\n",
        "get_trending_stocks()"
      ],
      "metadata": {
        "colab": {
          "base_uri": "https://localhost:8080/"
        },
        "id": "L5brgbBdc17K",
        "outputId": "247a3a8a-ca9a-4359-b9bb-9e324f6e3808"
      },
      "execution_count": 70,
      "outputs": [
        {
          "output_type": "stream",
          "name": "stdout",
          "text": [
            "   symbol                        shortName Market Price  52 Week High  \\\n",
            "0    NVDA               NVIDIA Corporation      $131.28     126.19863   \n",
            "1     CRM                 Salesforce, Inc.      $307.33     289.40564   \n",
            "2    SNOW                   Snowflake Inc.      $166.19     141.79974   \n",
            "3    IONQ                       IonQ, Inc.       $29.93      18.85830   \n",
            "4    BYND                Beyond Meat, Inc.        $3.56       5.72290   \n",
            "5     APP             Applovin Corporation      $331.00     192.46867   \n",
            "6    EBAY                        eBay Inc.       $69.14      60.29120   \n",
            "7      AI                      C3.ai, Inc.       $26.44      28.84715   \n",
            "8     NIO                         NIO Inc.        $4.72       4.75385   \n",
            "9    SNPS                   Synopsys, Inc.      $470.46     535.60830   \n",
            "10   MULN          Mullen Automotive, Inc.        $4.04    5792.82030   \n",
            "11   NTNX                    Nutanix, Inc.       $69.35      61.52975   \n",
            "12   MARA              MARA Holdings, Inc.       $12.45      19.01800   \n",
            "13   TDOC             Teladoc Health, Inc.       $10.99       9.70490   \n",
            "14   JOBY              Joby Aviation, Inc.        $6.70       6.23260   \n",
            "15   PSTG               Pure Storage, Inc.       $62.44      59.11735   \n",
            "16     SG                 Sweetgreen, Inc.       $23.14      32.59075   \n",
            "17   ROOT                       Root, Inc.       $98.71      65.55457   \n",
            "18    APA                  APA Corporation       $22.01      25.95965   \n",
            "19   NVDL  GraniteShares 2x Long NVDA Dail       $57.64      64.40135   \n",
            "\n",
            "    52 Week Low  \n",
            "0        75.606  \n",
            "1       212.000  \n",
            "2       107.130  \n",
            "3         6.220  \n",
            "4         3.300  \n",
            "5        57.400  \n",
            "6        46.530  \n",
            "7        18.850  \n",
            "8         3.610  \n",
            "9       457.000  \n",
            "10        2.290  \n",
            "11       43.350  \n",
            "12       12.050  \n",
            "13        6.760  \n",
            "14        4.500  \n",
            "15       40.950  \n",
            "16       11.840  \n",
            "17       23.040  \n",
            "18       20.320  \n",
            "19       28.290  \n"
          ]
        }
      ]
    },
    {
      "cell_type": "markdown",
      "source": [
        "Bonus Challenge\n",
        "- Allow users to fetch data for different modules dynamically. (revised some of the code to allow users to input there own)\n",
        "- Format currency values properly (e.g., `$1,500,000,000` instead of `1500000000`(did this with the lambda functions"
      ],
      "metadata": {
        "id": "d_K2iVjzNcCL"
      }
    }
  ]
}